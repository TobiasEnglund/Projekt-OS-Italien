{
 "cells": [
  {
   "cell_type": "code",
   "execution_count": 67,
   "metadata": {},
   "outputs": [],
   "source": [
    "import dash\n",
    "from dash import Dash, html, dcc, callback, Output, Input, State\n",
    "from dash import dash_table\n",
    "from dash_bootstrap_templates import load_figure_template\n",
    "import dash_bootstrap_components as dbc\n",
    "import plotly.express as px\n",
    "import pandas as pd\n"
   ]
  },
  {
   "cell_type": "code",
   "execution_count": 68,
   "metadata": {},
   "outputs": [
    {
     "data": {
      "text/html": [
       "<div>\n",
       "<style scoped>\n",
       "    .dataframe tbody tr th:only-of-type {\n",
       "        vertical-align: middle;\n",
       "    }\n",
       "\n",
       "    .dataframe tbody tr th {\n",
       "        vertical-align: top;\n",
       "    }\n",
       "\n",
       "    .dataframe thead th {\n",
       "        text-align: right;\n",
       "    }\n",
       "</style>\n",
       "<table border=\"1\" class=\"dataframe\">\n",
       "  <thead>\n",
       "    <tr style=\"text-align: right;\">\n",
       "      <th></th>\n",
       "      <th>Year</th>\n",
       "      <th>Season</th>\n",
       "      <th>Number of medals</th>\n",
       "    </tr>\n",
       "  </thead>\n",
       "  <tbody>\n",
       "    <tr>\n",
       "      <th>0</th>\n",
       "      <td>2004</td>\n",
       "      <td>Summer</td>\n",
       "      <td>104</td>\n",
       "    </tr>\n",
       "    <tr>\n",
       "      <th>1</th>\n",
       "      <td>1960</td>\n",
       "      <td>Summer</td>\n",
       "      <td>85</td>\n",
       "    </tr>\n",
       "    <tr>\n",
       "      <th>2</th>\n",
       "      <td>1920</td>\n",
       "      <td>Summer</td>\n",
       "      <td>84</td>\n",
       "    </tr>\n",
       "  </tbody>\n",
       "</table>\n",
       "</div>"
      ],
      "text/plain": [
       "   Year  Season  Number of medals\n",
       "0  2004  Summer               104\n",
       "1  1960  Summer                85\n",
       "2  1920  Summer                84"
      ]
     },
     "execution_count": 68,
     "metadata": {},
     "output_type": "execute_result"
    }
   ],
   "source": [
    "athlete_events = pd.read_csv(\"./Data/athlete_events.csv\")\n",
    "athlete_events.head(2)\n",
    "\n",
    "best_italian_years = pd.read_excel(\"./Data/best_italian_years.xlsx\")\n",
    "best_italian_years"
   ]
  },
  {
   "cell_type": "code",
   "execution_count": 69,
   "metadata": {},
   "outputs": [
    {
     "name": "stderr",
     "output_type": "stream",
     "text": [
      "C:\\Users\\Student\\AppData\\Local\\Temp\\ipykernel_26140\\193752641.py:24: SettingWithCopyWarning:\n",
      "\n",
      "\n",
      "A value is trying to be set on a copy of a slice from a DataFrame.\n",
      "Try using .loc[row_indexer,col_indexer] = value instead\n",
      "\n",
      "See the caveats in the documentation: https://pandas.pydata.org/pandas-docs/stable/user_guide/indexing.html#returning-a-view-versus-a-copy\n",
      "\n"
     ]
    }
   ],
   "source": [
    "medals = athlete_events[athlete_events['Medal'].isin(['Gold', 'Silver', 'Bronze'])]\n",
    "medals_count = medals.groupby(['Sport', 'Team', 'Medal']).size().reset_index(name='Count')\n",
    "\n",
    "\n",
    "\n",
    "italy_medals = medals.query(\"Team == 'Italy'\")\n",
    "italy_medals.value_counts(\"Medal\")\n",
    "italy_medals_count = italy_medals.value_counts(\"Sport\")\n",
    "\n",
    "medals_per_game = italy_medals.groupby(\"Year\")[[\"Season\"]].value_counts()\n",
    "medals_per_game.sort_values(ascending=False, inplace=True)\n",
    "medal_df = medals_per_game.head(3)  \n",
    "\n",
    "age_count = italy_medals[\"Age\"].value_counts()\n",
    "\n",
    "italy_athletes = athlete_events.query(\"Team == 'Italy'\")\n",
    "all_italy_athletes = italy_athletes[\"Age\"].value_counts()\n",
    "\n",
    "italy_events = athlete_events.query(\"Team == 'Italy'\")\n",
    "sport_heights_mean = italy_events.groupby(\"Sport\").agg({'Height': 'mean'})\n",
    "sport_heights_mean = sport_heights_mean.dropna()\n",
    "sport_heights_mean.sort_values(by=\"Height\", inplace=True)\n",
    "\n",
    "italy_events[\"BMI\"] = italy_events[\"Weight\"] / ((italy_events[\"Height\"]/100)**2)\n",
    "\n",
    "\n",
    "\n",
    "\n",
    "\n",
    "\n",
    "\n",
    "\n",
    "\n",
    "# For the ones I did yesterday\n",
    "all_sports = medals['Sport'].unique()"
   ]
  },
  {
   "cell_type": "code",
   "execution_count": 70,
   "metadata": {},
   "outputs": [
    {
     "data": {
      "application/vnd.plotly.v1+json": {
       "config": {
        "plotlyServerURL": "https://plot.ly"
       },
       "data": [
        {
         "alignmentgroup": "True",
         "hovertemplate": "Sport=%{x}<br>Height=%{y}<extra></extra>",
         "legendgroup": "",
         "marker": {
          "color": "#1F77B4",
          "pattern": {
           "shape": ""
          }
         },
         "name": "",
         "offsetgroup": "",
         "orientation": "v",
         "showlegend": false,
         "textposition": "auto",
         "type": "bar",
         "x": [
          "Gymnastics",
          "Badminton",
          "Trampolining",
          "Figure Skating",
          "Table Tennis",
          "Weightlifting",
          "Short Track Speed Skating",
          "Diving",
          "Rhythmic Gymnastics",
          "Softball",
          "Synchronized Swimming",
          "Wrestling",
          "Hockey",
          "Judo",
          "Nordic Combined",
          "Biathlon",
          "Cross Country Skiing",
          "Alpine Skiing",
          "Boxing",
          "Archery",
          "Shooting",
          "Luge",
          "Freestyle Skiing",
          "Equestrianism",
          "Triathlon",
          "Curling",
          "Snowboarding",
          "Speed Skating",
          "Cycling",
          "Modern Pentathlon",
          "Ski Jumping",
          "Athletics",
          "Tennis",
          "Fencing",
          "Skeleton",
          "Sailing",
          "Ice Hockey",
          "Football",
          "Bobsleigh",
          "Canoeing",
          "Taekwondo",
          "Swimming",
          "Golf",
          "Baseball",
          "Rowing",
          "Water Polo",
          "Tug-Of-War",
          "Beach Volleyball",
          "Volleyball",
          "Basketball"
         ],
         "xaxis": "x",
         "y": [
          163.92558139534884,
          164.66666666666666,
          165,
          166.64102564102564,
          166.89473684210526,
          167.62121212121212,
          168.02189781021897,
          168.23076923076923,
          168.6086956521739,
          168.73333333333332,
          168.92307692307693,
          169.36111111111111,
          171.21052631578948,
          171.36986301369862,
          171.71428571428572,
          172.2072072072072,
          172.21559633027522,
          172.5319693094629,
          172.73275862068965,
          172.7888888888889,
          173.3201754385965,
          173.320987654321,
          173.46153846153845,
          173.86069651741295,
          174.11764705882354,
          174.66666666666666,
          174.859375,
          175.01418439716312,
          175.75666666666666,
          175.92857142857142,
          176.58666666666667,
          176.64743589743588,
          176.9142857142857,
          177.11111111111111,
          177.25,
          177.9939393939394,
          178.15151515151516,
          178.1925925925926,
          178.65217391304347,
          178.96491228070175,
          179.45454545454547,
          179.612213740458,
          179.75,
          182.63636363636363,
          183.50815217391303,
          183.83474576271186,
          184.5,
          185.9375,
          190.30208333333334,
          192.73469387755102
         ],
         "yaxis": "y"
        }
       ],
       "layout": {
        "barmode": "relative",
        "legend": {
         "tracegroupgap": 0
        },
        "template": {
         "data": {
          "bar": [
           {
            "error_x": {
             "color": "rgb(36,36,36)"
            },
            "error_y": {
             "color": "rgb(36,36,36)"
            },
            "marker": {
             "line": {
              "color": "white",
              "width": 0.5
             },
             "pattern": {
              "fillmode": "overlay",
              "size": 10,
              "solidity": 0.2
             }
            },
            "type": "bar"
           }
          ],
          "barpolar": [
           {
            "marker": {
             "line": {
              "color": "white",
              "width": 0.5
             },
             "pattern": {
              "fillmode": "overlay",
              "size": 10,
              "solidity": 0.2
             }
            },
            "type": "barpolar"
           }
          ],
          "carpet": [
           {
            "aaxis": {
             "endlinecolor": "rgb(36,36,36)",
             "gridcolor": "white",
             "linecolor": "white",
             "minorgridcolor": "white",
             "startlinecolor": "rgb(36,36,36)"
            },
            "baxis": {
             "endlinecolor": "rgb(36,36,36)",
             "gridcolor": "white",
             "linecolor": "white",
             "minorgridcolor": "white",
             "startlinecolor": "rgb(36,36,36)"
            },
            "type": "carpet"
           }
          ],
          "choropleth": [
           {
            "colorbar": {
             "outlinewidth": 1,
             "tickcolor": "rgb(36,36,36)",
             "ticks": "outside"
            },
            "type": "choropleth"
           }
          ],
          "contour": [
           {
            "colorbar": {
             "outlinewidth": 1,
             "tickcolor": "rgb(36,36,36)",
             "ticks": "outside"
            },
            "colorscale": [
             [
              0,
              "#440154"
             ],
             [
              0.1111111111111111,
              "#482878"
             ],
             [
              0.2222222222222222,
              "#3e4989"
             ],
             [
              0.3333333333333333,
              "#31688e"
             ],
             [
              0.4444444444444444,
              "#26828e"
             ],
             [
              0.5555555555555556,
              "#1f9e89"
             ],
             [
              0.6666666666666666,
              "#35b779"
             ],
             [
              0.7777777777777778,
              "#6ece58"
             ],
             [
              0.8888888888888888,
              "#b5de2b"
             ],
             [
              1,
              "#fde725"
             ]
            ],
            "type": "contour"
           }
          ],
          "contourcarpet": [
           {
            "colorbar": {
             "outlinewidth": 1,
             "tickcolor": "rgb(36,36,36)",
             "ticks": "outside"
            },
            "type": "contourcarpet"
           }
          ],
          "heatmap": [
           {
            "colorbar": {
             "outlinewidth": 1,
             "tickcolor": "rgb(36,36,36)",
             "ticks": "outside"
            },
            "colorscale": [
             [
              0,
              "#440154"
             ],
             [
              0.1111111111111111,
              "#482878"
             ],
             [
              0.2222222222222222,
              "#3e4989"
             ],
             [
              0.3333333333333333,
              "#31688e"
             ],
             [
              0.4444444444444444,
              "#26828e"
             ],
             [
              0.5555555555555556,
              "#1f9e89"
             ],
             [
              0.6666666666666666,
              "#35b779"
             ],
             [
              0.7777777777777778,
              "#6ece58"
             ],
             [
              0.8888888888888888,
              "#b5de2b"
             ],
             [
              1,
              "#fde725"
             ]
            ],
            "type": "heatmap"
           }
          ],
          "heatmapgl": [
           {
            "colorbar": {
             "outlinewidth": 1,
             "tickcolor": "rgb(36,36,36)",
             "ticks": "outside"
            },
            "colorscale": [
             [
              0,
              "#440154"
             ],
             [
              0.1111111111111111,
              "#482878"
             ],
             [
              0.2222222222222222,
              "#3e4989"
             ],
             [
              0.3333333333333333,
              "#31688e"
             ],
             [
              0.4444444444444444,
              "#26828e"
             ],
             [
              0.5555555555555556,
              "#1f9e89"
             ],
             [
              0.6666666666666666,
              "#35b779"
             ],
             [
              0.7777777777777778,
              "#6ece58"
             ],
             [
              0.8888888888888888,
              "#b5de2b"
             ],
             [
              1,
              "#fde725"
             ]
            ],
            "type": "heatmapgl"
           }
          ],
          "histogram": [
           {
            "marker": {
             "line": {
              "color": "white",
              "width": 0.6
             }
            },
            "type": "histogram"
           }
          ],
          "histogram2d": [
           {
            "colorbar": {
             "outlinewidth": 1,
             "tickcolor": "rgb(36,36,36)",
             "ticks": "outside"
            },
            "colorscale": [
             [
              0,
              "#440154"
             ],
             [
              0.1111111111111111,
              "#482878"
             ],
             [
              0.2222222222222222,
              "#3e4989"
             ],
             [
              0.3333333333333333,
              "#31688e"
             ],
             [
              0.4444444444444444,
              "#26828e"
             ],
             [
              0.5555555555555556,
              "#1f9e89"
             ],
             [
              0.6666666666666666,
              "#35b779"
             ],
             [
              0.7777777777777778,
              "#6ece58"
             ],
             [
              0.8888888888888888,
              "#b5de2b"
             ],
             [
              1,
              "#fde725"
             ]
            ],
            "type": "histogram2d"
           }
          ],
          "histogram2dcontour": [
           {
            "colorbar": {
             "outlinewidth": 1,
             "tickcolor": "rgb(36,36,36)",
             "ticks": "outside"
            },
            "colorscale": [
             [
              0,
              "#440154"
             ],
             [
              0.1111111111111111,
              "#482878"
             ],
             [
              0.2222222222222222,
              "#3e4989"
             ],
             [
              0.3333333333333333,
              "#31688e"
             ],
             [
              0.4444444444444444,
              "#26828e"
             ],
             [
              0.5555555555555556,
              "#1f9e89"
             ],
             [
              0.6666666666666666,
              "#35b779"
             ],
             [
              0.7777777777777778,
              "#6ece58"
             ],
             [
              0.8888888888888888,
              "#b5de2b"
             ],
             [
              1,
              "#fde725"
             ]
            ],
            "type": "histogram2dcontour"
           }
          ],
          "mesh3d": [
           {
            "colorbar": {
             "outlinewidth": 1,
             "tickcolor": "rgb(36,36,36)",
             "ticks": "outside"
            },
            "type": "mesh3d"
           }
          ],
          "parcoords": [
           {
            "line": {
             "colorbar": {
              "outlinewidth": 1,
              "tickcolor": "rgb(36,36,36)",
              "ticks": "outside"
             }
            },
            "type": "parcoords"
           }
          ],
          "pie": [
           {
            "automargin": true,
            "type": "pie"
           }
          ],
          "scatter": [
           {
            "fillpattern": {
             "fillmode": "overlay",
             "size": 10,
             "solidity": 0.2
            },
            "type": "scatter"
           }
          ],
          "scatter3d": [
           {
            "line": {
             "colorbar": {
              "outlinewidth": 1,
              "tickcolor": "rgb(36,36,36)",
              "ticks": "outside"
             }
            },
            "marker": {
             "colorbar": {
              "outlinewidth": 1,
              "tickcolor": "rgb(36,36,36)",
              "ticks": "outside"
             }
            },
            "type": "scatter3d"
           }
          ],
          "scattercarpet": [
           {
            "marker": {
             "colorbar": {
              "outlinewidth": 1,
              "tickcolor": "rgb(36,36,36)",
              "ticks": "outside"
             }
            },
            "type": "scattercarpet"
           }
          ],
          "scattergeo": [
           {
            "marker": {
             "colorbar": {
              "outlinewidth": 1,
              "tickcolor": "rgb(36,36,36)",
              "ticks": "outside"
             }
            },
            "type": "scattergeo"
           }
          ],
          "scattergl": [
           {
            "marker": {
             "colorbar": {
              "outlinewidth": 1,
              "tickcolor": "rgb(36,36,36)",
              "ticks": "outside"
             }
            },
            "type": "scattergl"
           }
          ],
          "scattermapbox": [
           {
            "marker": {
             "colorbar": {
              "outlinewidth": 1,
              "tickcolor": "rgb(36,36,36)",
              "ticks": "outside"
             }
            },
            "type": "scattermapbox"
           }
          ],
          "scatterpolar": [
           {
            "marker": {
             "colorbar": {
              "outlinewidth": 1,
              "tickcolor": "rgb(36,36,36)",
              "ticks": "outside"
             }
            },
            "type": "scatterpolar"
           }
          ],
          "scatterpolargl": [
           {
            "marker": {
             "colorbar": {
              "outlinewidth": 1,
              "tickcolor": "rgb(36,36,36)",
              "ticks": "outside"
             }
            },
            "type": "scatterpolargl"
           }
          ],
          "scatterternary": [
           {
            "marker": {
             "colorbar": {
              "outlinewidth": 1,
              "tickcolor": "rgb(36,36,36)",
              "ticks": "outside"
             }
            },
            "type": "scatterternary"
           }
          ],
          "surface": [
           {
            "colorbar": {
             "outlinewidth": 1,
             "tickcolor": "rgb(36,36,36)",
             "ticks": "outside"
            },
            "colorscale": [
             [
              0,
              "#440154"
             ],
             [
              0.1111111111111111,
              "#482878"
             ],
             [
              0.2222222222222222,
              "#3e4989"
             ],
             [
              0.3333333333333333,
              "#31688e"
             ],
             [
              0.4444444444444444,
              "#26828e"
             ],
             [
              0.5555555555555556,
              "#1f9e89"
             ],
             [
              0.6666666666666666,
              "#35b779"
             ],
             [
              0.7777777777777778,
              "#6ece58"
             ],
             [
              0.8888888888888888,
              "#b5de2b"
             ],
             [
              1,
              "#fde725"
             ]
            ],
            "type": "surface"
           }
          ],
          "table": [
           {
            "cells": {
             "fill": {
              "color": "rgb(237,237,237)"
             },
             "line": {
              "color": "white"
             }
            },
            "header": {
             "fill": {
              "color": "rgb(217,217,217)"
             },
             "line": {
              "color": "white"
             }
            },
            "type": "table"
           }
          ]
         },
         "layout": {
          "annotationdefaults": {
           "arrowhead": 0,
           "arrowwidth": 1
          },
          "autotypenumbers": "strict",
          "coloraxis": {
           "colorbar": {
            "outlinewidth": 1,
            "tickcolor": "rgb(36,36,36)",
            "ticks": "outside"
           }
          },
          "colorscale": {
           "diverging": [
            [
             0,
             "rgb(103,0,31)"
            ],
            [
             0.1,
             "rgb(178,24,43)"
            ],
            [
             0.2,
             "rgb(214,96,77)"
            ],
            [
             0.3,
             "rgb(244,165,130)"
            ],
            [
             0.4,
             "rgb(253,219,199)"
            ],
            [
             0.5,
             "rgb(247,247,247)"
            ],
            [
             0.6,
             "rgb(209,229,240)"
            ],
            [
             0.7,
             "rgb(146,197,222)"
            ],
            [
             0.8,
             "rgb(67,147,195)"
            ],
            [
             0.9,
             "rgb(33,102,172)"
            ],
            [
             1,
             "rgb(5,48,97)"
            ]
           ],
           "sequential": [
            [
             0,
             "#440154"
            ],
            [
             0.1111111111111111,
             "#482878"
            ],
            [
             0.2222222222222222,
             "#3e4989"
            ],
            [
             0.3333333333333333,
             "#31688e"
            ],
            [
             0.4444444444444444,
             "#26828e"
            ],
            [
             0.5555555555555556,
             "#1f9e89"
            ],
            [
             0.6666666666666666,
             "#35b779"
            ],
            [
             0.7777777777777778,
             "#6ece58"
            ],
            [
             0.8888888888888888,
             "#b5de2b"
            ],
            [
             1,
             "#fde725"
            ]
           ],
           "sequentialminus": [
            [
             0,
             "#440154"
            ],
            [
             0.1111111111111111,
             "#482878"
            ],
            [
             0.2222222222222222,
             "#3e4989"
            ],
            [
             0.3333333333333333,
             "#31688e"
            ],
            [
             0.4444444444444444,
             "#26828e"
            ],
            [
             0.5555555555555556,
             "#1f9e89"
            ],
            [
             0.6666666666666666,
             "#35b779"
            ],
            [
             0.7777777777777778,
             "#6ece58"
            ],
            [
             0.8888888888888888,
             "#b5de2b"
            ],
            [
             1,
             "#fde725"
            ]
           ]
          },
          "colorway": [
           "#1F77B4",
           "#FF7F0E",
           "#2CA02C",
           "#D62728",
           "#9467BD",
           "#8C564B",
           "#E377C2",
           "#7F7F7F",
           "#BCBD22",
           "#17BECF"
          ],
          "font": {
           "color": "rgb(36,36,36)"
          },
          "geo": {
           "bgcolor": "white",
           "lakecolor": "white",
           "landcolor": "white",
           "showlakes": true,
           "showland": true,
           "subunitcolor": "white"
          },
          "hoverlabel": {
           "align": "left"
          },
          "hovermode": "closest",
          "mapbox": {
           "style": "light"
          },
          "paper_bgcolor": "white",
          "plot_bgcolor": "white",
          "polar": {
           "angularaxis": {
            "gridcolor": "rgb(232,232,232)",
            "linecolor": "rgb(36,36,36)",
            "showgrid": false,
            "showline": true,
            "ticks": "outside"
           },
           "bgcolor": "white",
           "radialaxis": {
            "gridcolor": "rgb(232,232,232)",
            "linecolor": "rgb(36,36,36)",
            "showgrid": false,
            "showline": true,
            "ticks": "outside"
           }
          },
          "scene": {
           "xaxis": {
            "backgroundcolor": "white",
            "gridcolor": "rgb(232,232,232)",
            "gridwidth": 2,
            "linecolor": "rgb(36,36,36)",
            "showbackground": true,
            "showgrid": false,
            "showline": true,
            "ticks": "outside",
            "zeroline": false,
            "zerolinecolor": "rgb(36,36,36)"
           },
           "yaxis": {
            "backgroundcolor": "white",
            "gridcolor": "rgb(232,232,232)",
            "gridwidth": 2,
            "linecolor": "rgb(36,36,36)",
            "showbackground": true,
            "showgrid": false,
            "showline": true,
            "ticks": "outside",
            "zeroline": false,
            "zerolinecolor": "rgb(36,36,36)"
           },
           "zaxis": {
            "backgroundcolor": "white",
            "gridcolor": "rgb(232,232,232)",
            "gridwidth": 2,
            "linecolor": "rgb(36,36,36)",
            "showbackground": true,
            "showgrid": false,
            "showline": true,
            "ticks": "outside",
            "zeroline": false,
            "zerolinecolor": "rgb(36,36,36)"
           }
          },
          "shapedefaults": {
           "fillcolor": "black",
           "line": {
            "width": 0
           },
           "opacity": 0.3
          },
          "ternary": {
           "aaxis": {
            "gridcolor": "rgb(232,232,232)",
            "linecolor": "rgb(36,36,36)",
            "showgrid": false,
            "showline": true,
            "ticks": "outside"
           },
           "baxis": {
            "gridcolor": "rgb(232,232,232)",
            "linecolor": "rgb(36,36,36)",
            "showgrid": false,
            "showline": true,
            "ticks": "outside"
           },
           "bgcolor": "white",
           "caxis": {
            "gridcolor": "rgb(232,232,232)",
            "linecolor": "rgb(36,36,36)",
            "showgrid": false,
            "showline": true,
            "ticks": "outside"
           }
          },
          "title": {
           "x": 0.05
          },
          "xaxis": {
           "automargin": true,
           "gridcolor": "rgb(232,232,232)",
           "linecolor": "rgb(36,36,36)",
           "showgrid": false,
           "showline": true,
           "ticks": "outside",
           "title": {
            "standoff": 15
           },
           "zeroline": false,
           "zerolinecolor": "rgb(36,36,36)"
          },
          "yaxis": {
           "automargin": true,
           "gridcolor": "rgb(232,232,232)",
           "linecolor": "rgb(36,36,36)",
           "showgrid": false,
           "showline": true,
           "ticks": "outside",
           "title": {
            "standoff": 15
           },
           "zeroline": false,
           "zerolinecolor": "rgb(36,36,36)"
          }
         }
        },
        "title": {
         "text": "Average athlete height per sport"
        },
        "xaxis": {
         "anchor": "y",
         "domain": [
          0,
          1
         ],
         "tickangle": -45,
         "title": {
          "text": "Sport"
         }
        },
        "yaxis": {
         "anchor": "x",
         "domain": [
          0,
          1
         ],
         "range": [
          150,
          193
         ],
         "title": {
          "text": "Height"
         }
        }
       }
      }
     },
     "metadata": {},
     "output_type": "display_data"
    }
   ],
   "source": [
    "# Italy medals\n",
    "\n",
    "fig_italy_medals = px.bar(\n",
    "    italy_medals_count,\n",
    "    title=\"Italy medals\",\n",
    "    labels={\"value\": \"Number of medals\", \n",
    "            \"variable\": \"Medals\", \n",
    "            \"count\": \"Number of medals\"},\n",
    "    template=\"simple_white\"\n",
    "    )\n",
    "\n",
    "# Total number of medals awarded athletes per age group in Italy\n",
    "\n",
    "fig_age_medals = px.histogram(\n",
    "    age_count,\n",
    "    x=age_count.index,\n",
    "    y=age_count.values,\n",
    "    nbins=len(age_count.index),\n",
    "    labels={\n",
    "        \"Age\": \"Age Group\", \n",
    "        \"sum of y\": \"Number of Athletes\"\n",
    "    },\n",
    "    title=\"Total number of medals awarded athletes per age group in Italy\",\n",
    "    template=\"simple_white\",\n",
    ")\n",
    "\n",
    "fig_age_medals.update_traces(hovertemplate=None)\n",
    "fig_age_medals.update_layout(hovermode=\"x\")\n",
    "fig_age_medals.update_layout(yaxis_title=\"Number of medals\")\n",
    "\n",
    "# Total number of athletes per age group in Italy\n",
    "\n",
    "fig_athletes_age_groups = px.histogram(\n",
    "    all_italy_athletes,\n",
    "    x=all_italy_athletes.index,\n",
    "    y=all_italy_athletes.values,\n",
    "    nbins=len(all_italy_athletes.index),\n",
    "    title=\"Total number of athletes per age group in Italy\",\n",
    "    template=\"simple_white\"\n",
    ")\n",
    "\n",
    "fig_athletes_age_groups.update_traces(hovertemplate=None)\n",
    "fig_athletes_age_groups.update_layout(hovermode=\"x\")\n",
    "fig_athletes_age_groups.update_layout(yaxis_title=\"Number of athletes\")\n",
    "\n",
    "# Average Italian athletes' height per sport\n",
    "\n",
    "fig_athlete_height_sport = px.bar(\n",
    "    sport_heights_mean,\n",
    "    x=sport_heights_mean.index,\n",
    "    y=\"Height\",\n",
    "    title=\"Average athlete height per sport\",\n",
    "    template=\"simple_white\",\n",
    ")\n",
    "\n",
    "fig_athlete_height_sport.update_xaxes(tickangle=-45)\n",
    "fig_athlete_height_sport.update_yaxes(range=[150, 193])"
   ]
  },
  {
   "cell_type": "code",
   "execution_count": 71,
   "metadata": {},
   "outputs": [
    {
     "name": "stdout",
     "output_type": "stream",
     "text": [
      "Dash app running on http://127.0.0.1:8050/\n"
     ]
    }
   ],
   "source": [
    "app = Dash(\n",
    "    __name__, \n",
    "    external_stylesheets=[dbc.themes.CYBORG],\n",
    "    meta_tags=[{\"name\": \"viewport\", \"content\": \"width=device-width, initial-scale=1\"}]\n",
    ")\n",
    "\n",
    "app.layout = dbc.Container([\n",
    "    dbc.Row([\n",
    "        dbc.Col([\n",
    "            html.H1(\"Olympic Games Dashboard\", className='text-center text-primary mx-3')\n",
    "            ], width=12, style={'text-align': 'center'})\n",
    "    ], className=\"mt-5\"),\n",
    "    \n",
    "    # Age distribution headings\n",
    "    dbc.Row([\n",
    "        dbc.Col([\n",
    "            html.H4(\"Gender distribution historically\")\n",
    "        ], width={\"size\": 5, \"offset\": 0}, style={'text-align': 'center'}),\n",
    "        \n",
    "        dbc.Col([\n",
    "            html.H4(\"Gender distribution 2016\")\n",
    "        ], width={\"size\": 5, \"offset\": 0}, style={'text-align': 'center'}),\n",
    "    ], justify='center'),\n",
    "    \n",
    "    # Age distribution plots\n",
    "    dbc.Row([\n",
    "        dbc.Col([\n",
    "            html.Img(src=dash.get_asset_url('Age distribution overall.png')) \n",
    "        ], width={\"size\": 5, \"offset\": 0}, style={'text-align': 'center'}),\n",
    "        dbc.Col([\n",
    "            html.Img(src=dash.get_asset_url('Age distribution 2016.png')) \n",
    "        ], width={\"size\": 5, \"offset\": 0}, style={'text-align': 'center'})\n",
    "    ], justify='center'),\n",
    "    \n",
    "    # Italy medals\n",
    "    dbc.Row([\n",
    "        dbc.Col([\n",
    "            dcc.Graph(figure=fig_italy_medals)\n",
    "        ], className=\"mt-5\")\n",
    "    ], justify='center'),\n",
    "    \n",
    "    # Italy medals by season\n",
    "    dbc.Row([\n",
    "        dbc.Col([\n",
    "            html.Img(src=app.get_asset_url('Italy medals by year overview.png')),\n",
    "        ], width={\"size\": 12, \"offset\": 0}, style={'text-align': 'center'}),\n",
    "    ], justify='center', className=\"mt-5\"),\n",
    "    \n",
    "    # Data table of the best Italian years\n",
    "    dbc.Row([\n",
    "        dbc.Col([\n",
    "            dash_table.DataTable(\n",
    "                id='best_italian_years',\n",
    "                data=best_italian_years.to_dict('records'),\n",
    "                columns=[{\"name\": i, \"id\": i} for i in best_italian_years.columns])\n",
    "        ], width={\"size\": 10, \"offset\": 0}, className=\"text-black-50\")\n",
    "    ], justify='center', className=\"mt-5\"),\n",
    "    \n",
    "    # Medals per age group in Italy\n",
    "    dbc.Row([\n",
    "        dbc.Col([\n",
    "            dcc.Graph(figure=fig_age_medals)\n",
    "        ], className=\"mt-5\")\n",
    "    ], justify='center'),\n",
    "    \n",
    "    # Athletes per age groups Italy\n",
    "    dbc.Row([\n",
    "        dbc.Col([\n",
    "            dcc.Graph(figure=fig_athletes_age_groups)\n",
    "        ], className=\"mt-5\")\n",
    "    ], justify='center'),\n",
    "    \n",
    "    # Athlete heights per sport Italy\n",
    "    dbc.Row([\n",
    "        dbc.Col([\n",
    "            dcc.Graph(figure=fig_athlete_height_sport)\n",
    "        ], className=\"mt-5\")\n",
    "    ], justify='center'),\n",
    "])  \n",
    "\n",
    "\n",
    "\n",
    "\n",
    "fig_age_medals\n",
    "      \n",
    "#     dbc.Row([\n",
    "#         dbc.Col([\n",
    "#             dcc.Dropdown(\n",
    "#                 id='sport_selector',\n",
    "#                 options=[{'label': sport, 'value': sport} for sport in all_sports],\n",
    "#                 value=all_sports[0]\n",
    "#             ),\n",
    "#             dcc.Graph(id='medal_graph')\n",
    "#         ]),\n",
    "#         dbc.Col([\n",
    "#             dcc.Dropdown(\n",
    "#                 id='sport_selector2',\n",
    "#                 options=[{'label': sport, 'value': sport} for sport in all_sports],\n",
    "#                 value=all_sports[0]\n",
    "#             ),\n",
    "#             dcc.Graph(id='age_graph')\n",
    "#         ])\n",
    "#     ])\n",
    "# ])\n",
    "\n",
    "# @callback(\n",
    "#     Output('medal_graph', 'figure'),\n",
    "#     Input('sport_selector', 'value')\n",
    "# )\n",
    "# def update_medal_graph(selected_sport):\n",
    "#     medals_df = medals_count[medals_count['Sport'] == selected_sport]\n",
    "#     fig = px.bar(medals_df, \n",
    "#                  x=\"Team\", y=\"Count\", \n",
    "#                  color=\"Medal\", \n",
    "#                  title=f\"Medals for {selected_sport}\", \n",
    "#                  template=\"simple_white\", \n",
    "#                  labels={\"Team\": \"Country\", \"Count\": \"Number of medals\"})\n",
    "#     fig.update_xaxes(tickangle=-45)\n",
    "#     return fig\n",
    "\n",
    "# @callback(\n",
    "#     Output('age_graph', 'figure'),\n",
    "#     Input('sport_selector2', 'value')\n",
    "# )\n",
    "# def update_age_graph(selected_sport):\n",
    "#     sport_df = athlete_events[athlete_events['Sport'] == selected_sport]\n",
    "#     age_distribution = sport_df.groupby('Age').size().reset_index(name='Count')\n",
    "#     fig = px.bar(age_distribution, \n",
    "#                  x=\"Age\", y=\"Count\", \n",
    "#                  color=\"Age\", \n",
    "#                  title=f\"Age distribution for {selected_sport}\", \n",
    "#                  template=\"simple_white\",\n",
    "#                  labels={\"Count\": \"Number of athletes\"})\n",
    "#     return fig\n",
    "\n",
    "app.run(debug=True, jupyter_mode='external')"
   ]
  }
 ],
 "metadata": {
  "kernelspec": {
   "display_name": "Data-Processing-Tobias-Englund-EF_y5pDd",
   "language": "python",
   "name": "python3"
  },
  "language_info": {
   "codemirror_mode": {
    "name": "ipython",
    "version": 3
   },
   "file_extension": ".py",
   "mimetype": "text/x-python",
   "name": "python",
   "nbconvert_exporter": "python",
   "pygments_lexer": "ipython3",
   "version": "3.11.5"
  }
 },
 "nbformat": 4,
 "nbformat_minor": 2
}
