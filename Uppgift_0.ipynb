{
 "cells": [
  {
   "cell_type": "markdown",
   "metadata": {},
   "source": [
    "## Uppgift 0 - Uppvärmning\n",
    "\n",
    "Börja med att göra explorativ dataanalys över hela datasettet. Generella frågor att besvara med hjälp av datan: \n",
    "   \n",
    "  a. hur många länder som är med i datan?  \n",
    "  b. vilka länder är med? (förkortningarna räcker)  \n",
    "  c. vilka sporter är med?  \n",
    "  d. vilka medaljtyper finns det?  \n",
    "  e. ta reda på statistik för åldern: medelvärde, median, min, max, standardavvikelse,  \n",
    "  f. utforska datan vidare med egna frågor  \n",
    "  \n",
    "Se även till att plotta några intressanta features, exempelvis:  \n",
    "\n",
    "  g. diagram över könsfördelningen  \n",
    "  h. diagram över topp 10 länder som tagit flest medaljer  \n",
    "  i. plotta gärna fler saker som är intressant.  "
   ]
  },
  {
   "cell_type": "code",
   "execution_count": null,
   "metadata": {},
   "outputs": [],
   "source": [
    "# a. hur många länder som är med i datan? "
   ]
  },
  {
   "cell_type": "code",
   "execution_count": null,
   "metadata": {},
   "outputs": [],
   "source": [
    "# b. vilka länder är med? (förkortningarna räcker)"
   ]
  },
  {
   "cell_type": "code",
   "execution_count": null,
   "metadata": {},
   "outputs": [],
   "source": [
    "# c. vilka sporter är med?"
   ]
  },
  {
   "cell_type": "code",
   "execution_count": null,
   "metadata": {},
   "outputs": [],
   "source": [
    "# d. vilka medaljtyper finns det?  "
   ]
  },
  {
   "cell_type": "code",
   "execution_count": null,
   "metadata": {},
   "outputs": [],
   "source": [
    "# e. ta reda på statistik för åldern: medelvärde, median, min, max, standardavvikelse,"
   ]
  },
  {
   "cell_type": "code",
   "execution_count": null,
   "metadata": {},
   "outputs": [],
   "source": [
    "# f. utforska datan vidare med egna frågor  "
   ]
  },
  {
   "cell_type": "code",
   "execution_count": null,
   "metadata": {},
   "outputs": [],
   "source": [
    "# g. diagram över könsfördelningen  "
   ]
  },
  {
   "cell_type": "code",
   "execution_count": null,
   "metadata": {},
   "outputs": [],
   "source": [
    "# h. diagram över topp 10 länder som tagit flest medaljer "
   ]
  },
  {
   "cell_type": "code",
   "execution_count": null,
   "metadata": {},
   "outputs": [],
   "source": [
    "# i. plotta gärna fler saker som är intressant.  "
   ]
  }
 ],
 "metadata": {
  "language_info": {
   "name": "python"
  }
 },
 "nbformat": 4,
 "nbformat_minor": 2
}
